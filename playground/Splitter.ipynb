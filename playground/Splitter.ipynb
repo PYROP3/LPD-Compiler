{
 "cells": [
  {
   "cell_type": "code",
   "execution_count": 1,
   "metadata": {},
   "outputs": [],
   "source": [
    "import re"
   ]
  },
  {
   "cell_type": "code",
   "execution_count": 80,
   "metadata": {},
   "outputs": [],
   "source": [
    "f = open(\"prog1.lpd\", \"r\", encoding=\"utf-8\")"
   ]
  },
  {
   "cell_type": "code",
   "execution_count": 81,
   "metadata": {},
   "outputs": [
    {
     "data": {
      "text/plain": [
       "['programa test;\\n',\n",
       " 'var v: inteiro;\\n',\n",
       " '    i,max, juro: inteiro;\\n',\n",
       " 'início\\n',\n",
       " '    enquanto v != -1\\n',\n",
       " '    faca\\n',\n",
       " '    início\\n',\n",
       " '        {leia o valor inicial}\\n',\n",
       " '        leia(v);\\n',\n",
       " '        {leia a taxa de juros }\\n',\n",
       " '        leia(juro);\\n',\n",
       " '        { Leia o periodo };\\n',\n",
       " '        leia(max);\\n',\n",
       " '        valor:= 1;\\n',\n",
       " '        i:= 1;\\n',\n",
       " '        enquanto i <= max { (1+juro) elevado a n }\\n',\n",
       " '        faca início\\n',\n",
       " '            valor:= valor*(1+juro);\\n',\n",
       " '            i:= i+1\\n',\n",
       " '         fim;\\n',\n",
       " '        escreva(valor)\\n',\n",
       " '    fim\\n',\n",
       " 'fim.']"
      ]
     },
     "execution_count": 81,
     "metadata": {},
     "output_type": "execute_result"
    }
   ],
   "source": [
    "txt = f.readlines()\n",
    "txt"
   ]
  },
  {
   "cell_type": "code",
   "execution_count": 82,
   "metadata": {},
   "outputs": [],
   "source": [
    "#txt[0] = 'program@ test'"
   ]
  },
  {
   "cell_type": "code",
   "execution_count": 83,
   "metadata": {},
   "outputs": [
    {
     "data": {
      "text/plain": [
       "['programa test; ',\n",
       " 'var v: inteiro; ',\n",
       " ' i,max, juro: inteiro; ',\n",
       " 'início ',\n",
       " ' enquanto v != -1 ',\n",
       " ' faca ',\n",
       " ' início ',\n",
       " ' {leia o valor inicial} ',\n",
       " ' leia(v); ',\n",
       " ' {leia a taxa de juros } ',\n",
       " ' leia(juro); ',\n",
       " ' { Leia o periodo }; ',\n",
       " ' leia(max); ',\n",
       " ' valor:= 1; ',\n",
       " ' i:= 1; ',\n",
       " ' enquanto i <= max { (1+juro) elevado a n } ',\n",
       " ' faca início ',\n",
       " ' valor:= valor*(1+juro); ',\n",
       " ' i:= i+1 ',\n",
       " ' fim; ',\n",
       " ' escreva(valor) ',\n",
       " ' fim ',\n",
       " 'fim.']"
      ]
     },
     "execution_count": 83,
     "metadata": {},
     "output_type": "execute_result"
    }
   ],
   "source": [
    "# Remove whitespaces\n",
    "txt = [re.sub(r\"[ \\n\\t]+\", \" \", line) for line in txt]\n",
    "txt"
   ]
  },
  {
   "cell_type": "code",
   "execution_count": 84,
   "metadata": {},
   "outputs": [
    {
     "data": {
      "text/plain": [
       "['programa test; ',\n",
       " 'var v: inteiro; ',\n",
       " ' i,max, juro: inteiro; ',\n",
       " 'início ',\n",
       " ' enquanto v != -1 ',\n",
       " ' faca ',\n",
       " ' início ',\n",
       " '  ',\n",
       " ' leia(v); ',\n",
       " '  ',\n",
       " ' leia(juro); ',\n",
       " ' ; ',\n",
       " ' leia(max); ',\n",
       " ' valor:= 1; ',\n",
       " ' i:= 1; ',\n",
       " ' enquanto i <= max  ',\n",
       " ' faca início ',\n",
       " ' valor:= valor*(1+juro); ',\n",
       " ' i:= i+1 ',\n",
       " ' fim; ',\n",
       " ' escreva(valor) ',\n",
       " ' fim ',\n",
       " 'fim.']"
      ]
     },
     "execution_count": 84,
     "metadata": {},
     "output_type": "execute_result"
    }
   ],
   "source": [
    "# Remove comments\n",
    "txt = [re.sub(r\"\\{.*?}\", \"\", line) for line in txt]\n",
    "txt"
   ]
  },
  {
   "cell_type": "code",
   "execution_count": 85,
   "metadata": {},
   "outputs": [
    {
     "data": {
      "text/plain": [
       "['programa test ;  ',\n",
       " 'var v :  inteiro ;  ',\n",
       " ' i , max ,  juro :  inteiro ;  ',\n",
       " 'início ',\n",
       " ' enquanto v  !  =   - 1 ',\n",
       " ' faca ',\n",
       " ' início ',\n",
       " '  ',\n",
       " ' leia ( v )  ;  ',\n",
       " '  ',\n",
       " ' leia ( juro )  ;  ',\n",
       " '  ;  ',\n",
       " ' leia ( max )  ;  ',\n",
       " ' valor :  =  1 ;  ',\n",
       " ' i :  =  1 ;  ',\n",
       " ' enquanto i  <  =  max  ',\n",
       " ' faca início ',\n",
       " ' valor :  =  valor *  ( 1 + juro )  ;  ',\n",
       " ' i :  =  i + 1 ',\n",
       " ' fim ;  ',\n",
       " ' escreva ( valor )  ',\n",
       " ' fim ',\n",
       " 'fim . ']"
      ]
     },
     "execution_count": 85,
     "metadata": {},
     "output_type": "execute_result"
    }
   ],
   "source": [
    "# Space every symbol\n",
    "symbol_list = \":;.,()\\-+*<>=!\"\n",
    "txt = [re.sub(f\"([{symbol_list}])\", r\" \\1 \", line) for line in txt]\n",
    "txt"
   ]
  },
  {
   "cell_type": "code",
   "execution_count": 86,
   "metadata": {},
   "outputs": [
    {
     "data": {
      "text/plain": [
       "['programa test ;  ',\n",
       " 'var v :  inteiro ;  ',\n",
       " ' i , max ,  juro :  inteiro ;  ',\n",
       " 'início ',\n",
       " ' enquanto v  !=   - 1 ',\n",
       " ' faca ',\n",
       " ' início ',\n",
       " '  ',\n",
       " ' leia ( v )  ;  ',\n",
       " '  ',\n",
       " ' leia ( juro )  ;  ',\n",
       " '  ;  ',\n",
       " ' leia ( max )  ;  ',\n",
       " ' valor :=  1 ;  ',\n",
       " ' i :=  1 ;  ',\n",
       " ' enquanto i  <=  max  ',\n",
       " ' faca início ',\n",
       " ' valor :=  valor *  ( 1 + juro )  ;  ',\n",
       " ' i :=  i + 1 ',\n",
       " ' fim ;  ',\n",
       " ' escreva ( valor )  ',\n",
       " ' fim ',\n",
       " 'fim . ']"
      ]
     },
     "execution_count": 86,
     "metadata": {},
     "output_type": "execute_result"
    }
   ],
   "source": [
    "# Re-join special symbols\n",
    "special_symbols = [\":=\", \"!=\", \"<=\", \">=\"]\n",
    "for symbol in special_symbols:\n",
    "    txt = [re.sub(f\"({symbol[0]}) *({symbol[1]})\", r\"\\1\\2\", line) for line in txt]\n",
    "txt"
   ]
  },
  {
   "cell_type": "code",
   "execution_count": 87,
   "metadata": {},
   "outputs": [
    {
     "data": {
      "text/plain": [
       "[['programa', 'test', ';'],\n",
       " ['var', 'v', ':', 'inteiro', ';'],\n",
       " ['i', ',', 'max', ',', 'juro', ':', 'inteiro', ';'],\n",
       " ['início'],\n",
       " ['enquanto', 'v', '!=', '-', '1'],\n",
       " ['faca'],\n",
       " ['início'],\n",
       " ['leia', '(', 'v', ')', ';'],\n",
       " ['leia', '(', 'juro', ')', ';'],\n",
       " [';'],\n",
       " ['leia', '(', 'max', ')', ';'],\n",
       " ['valor', ':=', '1', ';'],\n",
       " ['i', ':=', '1', ';'],\n",
       " ['enquanto', 'i', '<=', 'max'],\n",
       " ['faca', 'início'],\n",
       " ['valor', ':=', 'valor', '*', '(', '1', '+', 'juro', ')', ';'],\n",
       " ['i', ':=', 'i', '+', '1'],\n",
       " ['fim', ';'],\n",
       " ['escreva', '(', 'valor', ')'],\n",
       " ['fim'],\n",
       " ['fim', '.']]"
      ]
     },
     "execution_count": 87,
     "metadata": {},
     "output_type": "execute_result"
    }
   ],
   "source": [
    "# string.split() should handle splitting the tokens\n",
    "tokens = [line.split() for line in txt]\n",
    "tokens = [line for line in tokens if line != []]\n",
    "tokens"
   ]
  },
  {
   "cell_type": "code",
   "execution_count": 88,
   "metadata": {},
   "outputs": [],
   "source": [
    "special_tokens = {\n",
    "    'programa': 'sprograma',\n",
    "    'início': 'sinício',\n",
    "    'fim': 'sfim',\n",
    "    'procedimento': 'sprocedimento',\n",
    "    'funcao': 'sfuncao',\n",
    "    'se': 'sse',\n",
    "    'entao': 'sentao',\n",
    "    'senao': 'ssenao',\n",
    "    'enquanto': 'senquanto',\n",
    "    'faca': 'sfaca',\n",
    "    ':=': 'satribuição',\n",
    "    'escreva': 'sescreva',\n",
    "    'leia': 'sleia',\n",
    "    'var': 'svar',\n",
    "    'inteiro': 'sinteiro',\n",
    "    'booleano': 'sbooleano',\n",
    "    '.': 'sponto',\n",
    "    ';': 'sponto_vírgula',\n",
    "    ',': 'svírgula',\n",
    "    '(': 'sabre_parênteses',\n",
    "    ')': 'sfecha_parênteses',\n",
    "    '>': 'smaior',\n",
    "    '>=': 'smaiorig',\n",
    "    '=': 'sig',\n",
    "    '<': 'smenor',\n",
    "    '<=': 'smenorig',\n",
    "    '!=': 'sdif',\n",
    "    '+': 'smais',\n",
    "    '-': 'smenos',\n",
    "    '*': 'smult',\n",
    "    'div': 'sdiv',\n",
    "    'e': 'se',\n",
    "    'ou': 'sou',\n",
    "    'nao': 'snao',\n",
    "    ':': 'sdoispontos'\n",
    "}"
   ]
  },
  {
   "cell_type": "code",
   "execution_count": 91,
   "metadata": {},
   "outputs": [],
   "source": [
    "#char_whitelist = re.escape(re.sub('[a-zA-Z-0-9]', '', ''.join(set(''.join([key for key in special_tokens]))))) + 'a-zA-Z0-9\\-'\n",
    "char_whitelist = re.compile('[^a-zA-Z0-9:=.;,()<>!+\\-*:_í]')"
   ]
  },
  {
   "cell_type": "code",
   "execution_count": 92,
   "metadata": {},
   "outputs": [],
   "source": [
    "for lineno, line in enumerate(tokens):\n",
    "    for token in line:\n",
    "        res = char_whitelist.search(token)\n",
    "        if res is not None:\n",
    "            raise Exception(\"Unknown char {} at {} (line {})\".format(res.string[res.start(0):res.end(0)], token, lineno+1))"
   ]
  },
  {
   "cell_type": "code",
   "execution_count": 94,
   "metadata": {},
   "outputs": [
    {
     "data": {
      "text/plain": [
       "[{'lexeme': 'programa', 'type': 'sprograma', 'line': 0},\n",
       " {'lexeme': 'test', 'type': 'sidentificador', 'line': 0},\n",
       " {'lexeme': ';', 'type': 'sponto_vírgula', 'line': 0},\n",
       " {'lexeme': 'var', 'type': 'svar', 'line': 1},\n",
       " {'lexeme': 'v', 'type': 'sidentificador', 'line': 1},\n",
       " {'lexeme': ':', 'type': 'sdoispontos', 'line': 1},\n",
       " {'lexeme': 'inteiro', 'type': 'sinteiro', 'line': 1},\n",
       " {'lexeme': ';', 'type': 'sponto_vírgula', 'line': 1},\n",
       " {'lexeme': 'i', 'type': 'sidentificador', 'line': 2},\n",
       " {'lexeme': ',', 'type': 'svírgula', 'line': 2},\n",
       " {'lexeme': 'max', 'type': 'sidentificador', 'line': 2},\n",
       " {'lexeme': ',', 'type': 'svírgula', 'line': 2},\n",
       " {'lexeme': 'juro', 'type': 'sidentificador', 'line': 2},\n",
       " {'lexeme': ':', 'type': 'sdoispontos', 'line': 2},\n",
       " {'lexeme': 'inteiro', 'type': 'sinteiro', 'line': 2},\n",
       " {'lexeme': ';', 'type': 'sponto_vírgula', 'line': 2},\n",
       " {'lexeme': 'início', 'type': 'sinício', 'line': 3},\n",
       " {'lexeme': 'enquanto', 'type': 'senquanto', 'line': 4},\n",
       " {'lexeme': 'v', 'type': 'sidentificador', 'line': 4},\n",
       " {'lexeme': '!=', 'type': 'sdif', 'line': 4},\n",
       " {'lexeme': '-', 'type': 'smenos', 'line': 4},\n",
       " {'lexeme': '1', 'type': 'snúmero', 'line': 4},\n",
       " {'lexeme': 'faca', 'type': 'sfaca', 'line': 5},\n",
       " {'lexeme': 'início', 'type': 'sinício', 'line': 6},\n",
       " {'lexeme': 'leia', 'type': 'sleia', 'line': 7},\n",
       " {'lexeme': '(', 'type': 'sabre_parênteses', 'line': 7},\n",
       " {'lexeme': 'v', 'type': 'sidentificador', 'line': 7},\n",
       " {'lexeme': ')', 'type': 'sfecha_parênteses', 'line': 7},\n",
       " {'lexeme': ';', 'type': 'sponto_vírgula', 'line': 7},\n",
       " {'lexeme': 'leia', 'type': 'sleia', 'line': 8},\n",
       " {'lexeme': '(', 'type': 'sabre_parênteses', 'line': 8},\n",
       " {'lexeme': 'juro', 'type': 'sidentificador', 'line': 8},\n",
       " {'lexeme': ')', 'type': 'sfecha_parênteses', 'line': 8},\n",
       " {'lexeme': ';', 'type': 'sponto_vírgula', 'line': 8},\n",
       " {'lexeme': ';', 'type': 'sponto_vírgula', 'line': 9},\n",
       " {'lexeme': 'leia', 'type': 'sleia', 'line': 10},\n",
       " {'lexeme': '(', 'type': 'sabre_parênteses', 'line': 10},\n",
       " {'lexeme': 'max', 'type': 'sidentificador', 'line': 10},\n",
       " {'lexeme': ')', 'type': 'sfecha_parênteses', 'line': 10},\n",
       " {'lexeme': ';', 'type': 'sponto_vírgula', 'line': 10},\n",
       " {'lexeme': 'valor', 'type': 'sidentificador', 'line': 11},\n",
       " {'lexeme': ':=', 'type': 'satribuição', 'line': 11},\n",
       " {'lexeme': '1', 'type': 'snúmero', 'line': 11},\n",
       " {'lexeme': ';', 'type': 'sponto_vírgula', 'line': 11},\n",
       " {'lexeme': 'i', 'type': 'sidentificador', 'line': 12},\n",
       " {'lexeme': ':=', 'type': 'satribuição', 'line': 12},\n",
       " {'lexeme': '1', 'type': 'snúmero', 'line': 12},\n",
       " {'lexeme': ';', 'type': 'sponto_vírgula', 'line': 12},\n",
       " {'lexeme': 'enquanto', 'type': 'senquanto', 'line': 13},\n",
       " {'lexeme': 'i', 'type': 'sidentificador', 'line': 13},\n",
       " {'lexeme': '<=', 'type': 'smenorig', 'line': 13},\n",
       " {'lexeme': 'max', 'type': 'sidentificador', 'line': 13},\n",
       " {'lexeme': 'faca', 'type': 'sfaca', 'line': 14},\n",
       " {'lexeme': 'início', 'type': 'sinício', 'line': 14},\n",
       " {'lexeme': 'valor', 'type': 'sidentificador', 'line': 15},\n",
       " {'lexeme': ':=', 'type': 'satribuição', 'line': 15},\n",
       " {'lexeme': 'valor', 'type': 'sidentificador', 'line': 15},\n",
       " {'lexeme': '*', 'type': 'smult', 'line': 15},\n",
       " {'lexeme': '(', 'type': 'sabre_parênteses', 'line': 15},\n",
       " {'lexeme': '1', 'type': 'snúmero', 'line': 15},\n",
       " {'lexeme': '+', 'type': 'smais', 'line': 15},\n",
       " {'lexeme': 'juro', 'type': 'sidentificador', 'line': 15},\n",
       " {'lexeme': ')', 'type': 'sfecha_parênteses', 'line': 15},\n",
       " {'lexeme': ';', 'type': 'sponto_vírgula', 'line': 15},\n",
       " {'lexeme': 'i', 'type': 'sidentificador', 'line': 16},\n",
       " {'lexeme': ':=', 'type': 'satribuição', 'line': 16},\n",
       " {'lexeme': 'i', 'type': 'sidentificador', 'line': 16},\n",
       " {'lexeme': '+', 'type': 'smais', 'line': 16},\n",
       " {'lexeme': '1', 'type': 'snúmero', 'line': 16},\n",
       " {'lexeme': 'fim', 'type': 'sfim', 'line': 17},\n",
       " {'lexeme': ';', 'type': 'sponto_vírgula', 'line': 17},\n",
       " {'lexeme': 'escreva', 'type': 'sescreva', 'line': 18},\n",
       " {'lexeme': '(', 'type': 'sabre_parênteses', 'line': 18},\n",
       " {'lexeme': 'valor', 'type': 'sidentificador', 'line': 18},\n",
       " {'lexeme': ')', 'type': 'sfecha_parênteses', 'line': 18},\n",
       " {'lexeme': 'fim', 'type': 'sfim', 'line': 19},\n",
       " {'lexeme': 'fim', 'type': 'sfim', 'line': 20},\n",
       " {'lexeme': '.', 'type': 'sponto', 'line': 20}]"
      ]
     },
     "execution_count": 94,
     "metadata": {},
     "output_type": "execute_result"
    }
   ],
   "source": [
    "prog_number = re.compile('[0-9]+')\n",
    "prog_ident = re.compile('[a-zA-Z][a-zA-Z0-9_]*')\n",
    "\n",
    "parsed_tokens = []\n",
    "\n",
    "for lineno, line in enumerate(tokens):\n",
    "    for token in line:\n",
    "        if (token in special_tokens):\n",
    "            tok = {'lexeme':token, 'type':special_tokens[token], 'line': lineno}\n",
    "        else:\n",
    "            m = prog_number.match(token)\n",
    "            if m is not None:\n",
    "                tok = {'lexeme':token, 'type':'snúmero', 'line': lineno}\n",
    "            else:\n",
    "                m = prog_ident.match(token)\n",
    "                if m is not None:\n",
    "                    tok = {'lexeme':token, 'type':'sidentificador', 'line': lineno}\n",
    "                else:\n",
    "                    raise Exception(\"Invalid token {}\".format(token))\n",
    "        parsed_tokens.append(tok)\n",
    "\n",
    "parsed_tokens"
   ]
  },
  {
   "cell_type": "code",
   "execution_count": null,
   "metadata": {},
   "outputs": [],
   "source": []
  }
 ],
 "metadata": {
  "kernelspec": {
   "display_name": "Python 3",
   "language": "python",
   "name": "python3"
  },
  "language_info": {
   "codemirror_mode": {
    "name": "ipython",
    "version": 3
   },
   "file_extension": ".py",
   "mimetype": "text/x-python",
   "name": "python",
   "nbconvert_exporter": "python",
   "pygments_lexer": "ipython3",
   "version": "3.7.1"
  }
 },
 "nbformat": 4,
 "nbformat_minor": 4
}
