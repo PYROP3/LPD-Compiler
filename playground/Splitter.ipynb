{
 "cells": [
  {
   "cell_type": "code",
   "execution_count": 1,
   "metadata": {},
   "outputs": [],
   "source": [
    "import re"
   ]
  },
  {
   "cell_type": "code",
   "execution_count": 2,
   "metadata": {},
   "outputs": [],
   "source": [
    "f = open(\"prog1.lpd\", \"r\", encoding=\"utf-8\")"
   ]
  },
  {
   "cell_type": "code",
   "execution_count": 3,
   "metadata": {},
   "outputs": [
    {
     "data": {
      "text/plain": [
       "'programa test;\\nvar v: inteiro;\\n    i,max, juro: inteiro;\\ninício\\n    enquanto v != -1\\n    faca\\n    início\\n        {leia o valor inicial}\\n        leia(v);\\n        {leia a taxa de juros }\\n        leia(juro);\\n        { Leia o periodo };\\n        leia(max);\\n        valor:= 1;\\n        i:= 1;\\n        enquanto i <= max { (1+juro) elevado a n }\\n        faca início\\n            valor:= valor*(1+juro);\\n            i:= i+1\\n         fim;\\n        escreva(valor)\\n    fim\\nfim.'"
      ]
     },
     "execution_count": 3,
     "metadata": {},
     "output_type": "execute_result"
    }
   ],
   "source": [
    "txt = f.read()\n",
    "txt"
   ]
  },
  {
   "cell_type": "code",
   "execution_count": 4,
   "metadata": {},
   "outputs": [
    {
     "data": {
      "text/plain": [
       "'programa test; var v: inteiro; i,max, juro: inteiro; início enquanto v != -1 faca início {leia o valor inicial} leia(v); {leia a taxa de juros } leia(juro); { Leia o periodo }; leia(max); valor:= 1; i:= 1; enquanto i <= max { (1+juro) elevado a n } faca início valor:= valor*(1+juro); i:= i+1 fim; escreva(valor) fim fim.'"
      ]
     },
     "execution_count": 4,
     "metadata": {},
     "output_type": "execute_result"
    }
   ],
   "source": [
    "# Remove whitespaces\n",
    "txt = re.sub(r\"[ \\n\\t]+\", \" \", txt)\n",
    "txt"
   ]
  },
  {
   "cell_type": "code",
   "execution_count": 5,
   "metadata": {},
   "outputs": [
    {
     "data": {
      "text/plain": [
       "'programa test; var v: inteiro; i,max, juro: inteiro; início enquanto v != -1 faca início  leia(v);  leia(juro); ; leia(max); valor:= 1; i:= 1; enquanto i <= max  faca início valor:= valor*(1+juro); i:= i+1 fim; escreva(valor) fim fim.'"
      ]
     },
     "execution_count": 5,
     "metadata": {},
     "output_type": "execute_result"
    }
   ],
   "source": [
    "# Remove comments\n",
    "txt = re.sub(r\"\\{.*?}\", \"\", txt)\n",
    "txt"
   ]
  },
  {
   "cell_type": "code",
   "execution_count": 6,
   "metadata": {},
   "outputs": [
    {
     "data": {
      "text/plain": [
       "'programa test ;  var v :  inteiro ;  i , max ,  juro :  inteiro ;  início enquanto v  !  =   - 1 faca início  leia ( v )  ;   leia ( juro )  ;   ;  leia ( max )  ;  valor :  =  1 ;  i :  =  1 ;  enquanto i  <  =  max  faca início valor :  =  valor *  ( 1 + juro )  ;  i :  =  i + 1 fim ;  escreva ( valor )  fim fim . '"
      ]
     },
     "execution_count": 6,
     "metadata": {},
     "output_type": "execute_result"
    }
   ],
   "source": [
    "# Space every symbol\n",
    "symbol_list = \":;.,()\\-+*<>=!\"\n",
    "txt = re.sub(f\"([{symbol_list}])\", r\" \\1 \", txt)\n",
    "txt"
   ]
  },
  {
   "cell_type": "code",
   "execution_count": 7,
   "metadata": {},
   "outputs": [
    {
     "data": {
      "text/plain": [
       "'programa test ;  var v :  inteiro ;  i , max ,  juro :  inteiro ;  início enquanto v  !=   - 1 faca início  leia ( v )  ;   leia ( juro )  ;   ;  leia ( max )  ;  valor :=  1 ;  i :=  1 ;  enquanto i  <=  max  faca início valor :=  valor *  ( 1 + juro )  ;  i :=  i + 1 fim ;  escreva ( valor )  fim fim . '"
      ]
     },
     "execution_count": 7,
     "metadata": {},
     "output_type": "execute_result"
    }
   ],
   "source": [
    "# Re-join special symbols\n",
    "special_symbols = [\":=\", \"!=\", \"<=\", \">=\"]\n",
    "for symbol in special_symbols:\n",
    "    txt = re.sub(f\"({symbol[0]}) *({symbol[1]})\", r\"\\1\\2\", txt)\n",
    "txt"
   ]
  },
  {
   "cell_type": "code",
   "execution_count": 8,
   "metadata": {},
   "outputs": [
    {
     "data": {
      "text/plain": [
       "['programa',\n",
       " 'test',\n",
       " ';',\n",
       " 'var',\n",
       " 'v',\n",
       " ':',\n",
       " 'inteiro',\n",
       " ';',\n",
       " 'i',\n",
       " ',',\n",
       " 'max',\n",
       " ',',\n",
       " 'juro',\n",
       " ':',\n",
       " 'inteiro',\n",
       " ';',\n",
       " 'início',\n",
       " 'enquanto',\n",
       " 'v',\n",
       " '!=',\n",
       " '-',\n",
       " '1',\n",
       " 'faca',\n",
       " 'início',\n",
       " 'leia',\n",
       " '(',\n",
       " 'v',\n",
       " ')',\n",
       " ';',\n",
       " 'leia',\n",
       " '(',\n",
       " 'juro',\n",
       " ')',\n",
       " ';',\n",
       " ';',\n",
       " 'leia',\n",
       " '(',\n",
       " 'max',\n",
       " ')',\n",
       " ';',\n",
       " 'valor',\n",
       " ':=',\n",
       " '1',\n",
       " ';',\n",
       " 'i',\n",
       " ':=',\n",
       " '1',\n",
       " ';',\n",
       " 'enquanto',\n",
       " 'i',\n",
       " '<=',\n",
       " 'max',\n",
       " 'faca',\n",
       " 'início',\n",
       " 'valor',\n",
       " ':=',\n",
       " 'valor',\n",
       " '*',\n",
       " '(',\n",
       " '1',\n",
       " '+',\n",
       " 'juro',\n",
       " ')',\n",
       " ';',\n",
       " 'i',\n",
       " ':=',\n",
       " 'i',\n",
       " '+',\n",
       " '1',\n",
       " 'fim',\n",
       " ';',\n",
       " 'escreva',\n",
       " '(',\n",
       " 'valor',\n",
       " ')',\n",
       " 'fim',\n",
       " 'fim',\n",
       " '.']"
      ]
     },
     "execution_count": 8,
     "metadata": {},
     "output_type": "execute_result"
    }
   ],
   "source": [
    "# string.split() should handle splitting the tokens\n",
    "tokens = txt.split()\n",
    "tokens"
   ]
  }
 ],
 "metadata": {
  "kernelspec": {
   "display_name": "Python 3",
   "language": "python",
   "name": "python3"
  },
  "language_info": {
   "codemirror_mode": {
    "name": "ipython",
    "version": 3
   },
   "file_extension": ".py",
   "mimetype": "text/x-python",
   "name": "python",
   "nbconvert_exporter": "python",
   "pygments_lexer": "ipython3",
   "version": "3.7.1"
  }
 },
 "nbformat": 4,
 "nbformat_minor": 4
}
